{
 "cells": [
  {
   "cell_type": "code",
   "execution_count": null,
   "metadata": {
    "collapsed": true
   },
   "outputs": [],
   "source": [
    "def get_value(k):\n",
    "    if(k>='A' and k<='Z'):\n",
    "        return (ord(k) - 38)\n",
    "    elif (k>='a' and k<='z'):\n",
    "        return (ord(k) - 96)\n",
    "    else:\n",
    "        return 0"
   ]
  },
  {
   "cell_type": "code",
   "execution_count": null,
   "metadata": {},
   "outputs": [],
   "source": [
    "with open('input.txt', 'r') as f:\n",
    "    temp = f.read().rstrip().split('\\n')\n",
    "sum = 0\n",
    "for items in temp:\n",
    "    groups = [set([*items[0:len(items)//2]]), set([*items[len(items)//2:]])]\n",
    "    sum += get_value(list(set.intersection(*groups))[0])\n",
    "print (\"Part 1 = \",sum)"
   ]
  },
  {
   "cell_type": "code",
   "execution_count": null,
   "metadata": {},
   "outputs": [],
   "source": [
    "with open('input.txt', 'r') as f:\n",
    "    temp = f.read().rstrip().split('\\n')\n",
    "sum = 0\n",
    "for i in range(0, len(temp), 3):\n",
    "    groups = [set(temp[i]), set(temp[i+1]), set(temp[i+2])]\n",
    "    sum += get_value(list(set.intersection(*groups))[0])\n",
    "print (\"Part 2 = \",sum)"
   ]
  },
  {
   "cell_type": "code",
   "execution_count": null,
   "metadata": {
    "collapsed": true
   },
   "outputs": [],
   "source": []
  }
 ],
 "metadata": {
  "kernelspec": {
   "display_name": "Python 3",
   "language": "python",
   "name": "python3"
  },
  "language_info": {
   "codemirror_mode": {
    "name": "ipython",
    "version": 3
   },
   "file_extension": ".py",
   "mimetype": "text/x-python",
   "name": "python",
   "nbconvert_exporter": "python",
   "pygments_lexer": "ipython3",
   "version": "3.6.2"
  }
 },
 "nbformat": 4,
 "nbformat_minor": 2
}
