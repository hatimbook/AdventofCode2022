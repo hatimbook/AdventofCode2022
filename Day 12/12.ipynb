{
 "cells": [
  {
   "cell_type": "code",
   "execution_count": null,
   "metadata": {
    "collapsed": true
   },
   "outputs": [],
   "source": [
    "def get_neighbours(curr, max_x, max_y):\n",
    "    n = []\n",
    "    if(curr[0] > 0): n.append((curr[0] - 1, curr[1]))\n",
    "    if(curr[0] < max_x): n.append((curr[0] + 1, curr[1]))\n",
    "    if(curr[1] > 0): n.append((curr[0], curr[1] - 1))\n",
    "    if(curr[1] < max_y): n.append((curr[0], curr[1] + 1))\n",
    "    return n\n",
    "def filter_neighbours(n, val, inp, v):\n",
    "    fil_n = []\n",
    "    for ne in n:\n",
    "        if inp[ne[0]][ne[1]] <= val + 1 and ne not in v:\n",
    "            fil_n.append(ne)\n",
    "    return fil_n\n",
    "\n",
    "def search(start, end):\n",
    "    q = deque()\n",
    "    visited = set()\n",
    "    q.append([start])\n",
    "    while q:\n",
    "        #print(q)\n",
    "        path = q.popleft()\n",
    "        tail = path[-1]\n",
    "        if tail == end: return len(path)-1\n",
    "        elif tail not in visited:\n",
    "            visited.add(tail) \n",
    "            n = get_neighbours(tail, len(inp)-1, len(inp[0])-1)\n",
    "            n = filter_neighbours(n, inp[tail[0]][tail[1]], inp, visited)\n",
    "            for a in n:\n",
    "                path_copy = path[:]\n",
    "                path_copy.append(a)\n",
    "                q.append(path_copy)\n",
    "        "
   ]
  },
  {
   "cell_type": "code",
   "execution_count": null,
   "metadata": {},
   "outputs": [],
   "source": [
    "from collections import deque\n",
    "\n",
    "with open('input.txt', 'r') as f:\n",
    "    txt = f.read().rstrip().split('\\n')\n",
    "inp = []\n",
    "for r in txt:\n",
    "    inp.append([ord(a)-97 if ord(a) > 96 else a for a in r ])\n",
    "start = () \n",
    "end = ()\n",
    "probablestarts = set()\n",
    "for r in range(len(inp)):\n",
    "    for c in range(len(inp[0])):\n",
    "        if inp[r][c] == 0:\n",
    "            probablestarts.add((r,c))\n",
    "        if inp[r][c] == 'S':\n",
    "            start = (r,c)\n",
    "            probablestarts.add((r,c))\n",
    "            inp[r][c] = ord('a') - 97\n",
    "        if inp[r][c] == 'E':\n",
    "            end = (r,c)\n",
    "            inp[r][c] = ord('z') - 97\n",
    "print(\"Part 1 = \", search(start, end))\n",
    "\n",
    "paths = []\n",
    "for st in probablestarts:\n",
    "    l = search(st, end)\n",
    "    if l:\n",
    "        paths.append(l)\n",
    "print(\"Part 2 = \", min(paths))    "
   ]
  }
 ],
 "metadata": {
  "kernelspec": {
   "display_name": "Python 3",
   "language": "python",
   "name": "python3"
  },
  "language_info": {
   "codemirror_mode": {
    "name": "ipython",
    "version": 3
   },
   "file_extension": ".py",
   "mimetype": "text/x-python",
   "name": "python",
   "nbconvert_exporter": "python",
   "pygments_lexer": "ipython3",
   "version": "3.6.2"
  }
 },
 "nbformat": 4,
 "nbformat_minor": 2
}
