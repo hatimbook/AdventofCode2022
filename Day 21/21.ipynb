{
 "cells": [
  {
   "cell_type": "code",
   "execution_count": null,
   "metadata": {
    "collapsed": true
   },
   "outputs": [],
   "source": [
    "import re\n",
    "def monkey_solve(x, hmnval):\n",
    "    try: return int(x), [0,0] \n",
    "    except ValueError:\n",
    "        a = re.findall('(.*) [+|\\-|*|\\/] (.*)', x)[0]\n",
    "        if a[0] != 'humn': p1 = monkey_solve(monkeys[a[0]], hmnval)[0]\n",
    "        else: p1 = str(hmnval)\n",
    "        if a[1] != 'humn': p2 = monkey_solve(monkeys[a[1]], hmnval)[0]\n",
    "        else: p2 = str(hmnval)\n",
    "        x = x.replace(a[0], str(p1))\n",
    "        x = x.replace(a[1], str(p2))\n",
    "        return eval(x), float(p1) == float(p2)   "
   ]
  },
  {
   "cell_type": "code",
   "execution_count": null,
   "metadata": {},
   "outputs": [],
   "source": [
    "with open('input.txt', 'r') as f:\n",
    "    txt = f.read().rstrip().split('\\n')\n",
    "monkeys = dict()\n",
    "for m in txt:\n",
    "    mon = re.findall('(.*): (.*)', m)[0]\n",
    "    monkeys[mon[0]] = mon[1]\n",
    "print(\"Part 1 = \", monkey_solve(monkeys['root'], monkeys['humn'])[0])\n",
    "\n",
    "# this number comes from observing the pattern of return values for increasing values of hmnval.\n",
    "# unfortunately did not code the pattern detection alg\n",
    "hmnval = 919531352004*4 + 1\n",
    "if monkey_solve(monkeys['root'], hmnval)[1]:\n",
    "    print(\"Part 2 = \", hmnval )\n",
    "    \n",
    "\n",
    "\n",
    "    "
   ]
  }
 ],
 "metadata": {
  "kernelspec": {
   "display_name": "Python 3",
   "language": "python",
   "name": "python3"
  },
  "language_info": {
   "codemirror_mode": {
    "name": "ipython",
    "version": 3
   },
   "file_extension": ".py",
   "mimetype": "text/x-python",
   "name": "python",
   "nbconvert_exporter": "python",
   "pygments_lexer": "ipython3",
   "version": "3.6.2"
  }
 },
 "nbformat": 4,
 "nbformat_minor": 2
}
