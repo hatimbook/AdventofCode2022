{
 "cells": [
  {
   "cell_type": "code",
   "execution_count": null,
   "metadata": {},
   "outputs": [],
   "source": [
    "def get_mag(h,t):\n",
    "    return ((h[0] - t[0])**2 + (h[1] - t[1])**2) \n",
    "\n",
    "def is_neighbor(h, t):\n",
    "    return (get_mag(h,t) <= 2)\n",
    "\n",
    "def move(h, t):\n",
    "    if t[0] == h[0] and t[1] > h[1]:\n",
    "        t[1] -= 1\n",
    "    elif t[0] == h[0] and t[1] < h[1]:\n",
    "        t[1] += 1\n",
    "    elif t[1] == h[1] and t[0] > h[0]:\n",
    "        t[0] -= 1\n",
    "    elif t[1] == h[1] and t[0] < h[0]:\n",
    "        t[0] += 1\n",
    "    elif t[0] > h[0] and t[1] > h[1]:\n",
    "        t[0] -= 1\n",
    "        t[1] -= 1\n",
    "    elif t[0] < h[0] and t[1] < h[1]:\n",
    "        t[0] += 1\n",
    "        t[1] += 1\n",
    "    elif t[0] > h[0] and t[1] < h[1]:\n",
    "        t[0] -= 1\n",
    "        t[1] += 1\n",
    "    elif t[0] < h[0] and t[1] > h[1]:\n",
    "        t[0] += 1\n",
    "        t[1] -= 1\n",
    "    return t        "
   ]
  },
  {
   "cell_type": "code",
   "execution_count": null,
   "metadata": {},
   "outputs": [],
   "source": [
    "with open(\"input.txt\", 'r') as f:\n",
    "    txt = [x.split(' ') for x in f.read().rstrip().split('\\n')]\n",
    "r = [[0,0] for i in range(10)]\n",
    "visited_1 = set([(0,0)])\n",
    "visited_9 = set([(0,0)])\n",
    "for step in txt:\n",
    "    d = step[0]\n",
    "    a = int(step[1]) \n",
    "    \n",
    "    for i in range(a):\n",
    "        if(d == 'R'): r[0][0] += 1\n",
    "        if(d == 'L'): r[0][0] -= 1\n",
    "        if(d == 'U'): r[0][1] += 1\n",
    "        if(d == 'D'): r[0][1] -= 1\n",
    "        for knot in range(1, len(r)):\n",
    "            if not is_neighbor(r[knot-1], r[knot]):\n",
    "                r[knot] = move(r[knot-1], r[knot])\n",
    "        visited_1.add(tuple(r[1]))\n",
    "        visited_9.add(tuple(r[-1]))\n",
    "\n",
    "print (\"Part 1 = \", len(visited_1))\n",
    "print (\"Part 2 = \", len(visited_9))\n"
   ]
  }
 ],
 "metadata": {
  "kernelspec": {
   "display_name": "Python 3",
   "language": "python",
   "name": "python3"
  },
  "language_info": {
   "codemirror_mode": {
    "name": "ipython",
    "version": 3
   },
   "file_extension": ".py",
   "mimetype": "text/x-python",
   "name": "python",
   "nbconvert_exporter": "python",
   "pygments_lexer": "ipython3",
   "version": "3.6.2"
  }
 },
 "nbformat": 4,
 "nbformat_minor": 2
}
