{
 "cells": [
  {
   "cell_type": "markdown",
   "metadata": {},
   "source": [
    "# Method 1\n",
    "Quick and dirty method using dictionaries. compute the scores using all possible combinations and store in a dictionary, replace all games with the score and add. "
   ]
  },
  {
   "cell_type": "code",
   "execution_count": null,
   "metadata": {},
   "outputs": [],
   "source": [
    "rps_dict = {'A X': [4, 3], 'B X': [1, 1], 'C X': [7, 2],\n",
    "            'A Y': [8, 4], 'B Y': [5, 5], 'C Y': [2, 6],\n",
    "            'A Z': [3, 8], 'B Z': [9, 9], 'C Z': [6, 7]}\n",
    "with open('input.txt', 'r') as f:\n",
    "    raw_txt = f.read().rstrip()\n",
    "s1 = sum([rps_dict.get(i)[0] for i in raw_txt.split('\\n')])\n",
    "s2 = sum([rps_dict.get(i)[1] for i in raw_txt.split('\\n')])\n",
    "\n",
    "print (\"Part 1 Score = \", s1)\n",
    "print (\"Part 2 Score = \", s2)\n"
   ]
  }
 ],
 "metadata": {
  "kernelspec": {
   "display_name": "Python 3",
   "language": "python",
   "name": "python3"
  },
  "language_info": {
   "codemirror_mode": {
    "name": "ipython",
    "version": 3
   },
   "file_extension": ".py",
   "mimetype": "text/x-python",
   "name": "python",
   "nbconvert_exporter": "python",
   "pygments_lexer": "ipython3",
   "version": "3.6.2"
  }
 },
 "nbformat": 4,
 "nbformat_minor": 2
}
