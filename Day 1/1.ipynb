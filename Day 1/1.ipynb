{
 "cells": [
  {
   "cell_type": "markdown",
   "metadata": {},
   "source": [
    "# Method 1"
   ]
  },
  {
   "cell_type": "markdown",
   "metadata": {},
   "source": [
    "Using simple lists and if-else condition to sum the list till you get an empty element and add the sum to a separate list"
   ]
  },
  {
   "cell_type": "code",
   "execution_count": null,
   "metadata": {},
   "outputs": [],
   "source": [
    "with open('input.txt') as f:\n",
    "    temp = f.read().splitlines()\n",
    "cal_list = []\n",
    "cal_sum = 0\n",
    "for cal in temp:\n",
    "    if cal != '':\n",
    "        cal_sum += (int(cal))\n",
    "    else:\n",
    "        cal_list.append(cal_sum)\n",
    "        cal_sum = 0\n",
    "cal_list.sort(reverse=True)\n",
    "print (\"Max Calories = \",cal_list[0])\n",
    "print (\"Top 3 Calories Sum = \", cal_list[0] + cal_list[1] + cal_list[2])\n"
   ]
  },
  {
   "cell_type": "markdown",
   "metadata": {},
   "source": [
    "# Method 2"
   ]
  },
  {
   "cell_type": "markdown",
   "metadata": {},
   "source": [
    "Converting string to an expression by replacing newlines with '+' operator and then using eval"
   ]
  },
  {
   "cell_type": "code",
   "execution_count": null,
   "metadata": {},
   "outputs": [],
   "source": [
    "with open('input.txt') as f:\n",
    "    cal_list = f.read().replace('\\n\\n', ';').rstrip().replace('\\n', '+').split(';')\n",
    "    cal_list = sorted([eval(x) for x in cal_list],reverse=True)\n",
    "print (\"Max Calories = \",cal_list[0])\n",
    "print (\"Top 3 Calories Sum = \", sum(cal_list[0:3]))"
   ]
  }
 ],
 "metadata": {
  "kernelspec": {
   "display_name": "Python 3",
   "language": "python",
   "name": "python3"
  },
  "language_info": {
   "codemirror_mode": {
    "name": "ipython",
    "version": 3
   },
   "file_extension": ".py",
   "mimetype": "text/x-python",
   "name": "python",
   "nbconvert_exporter": "python",
   "pygments_lexer": "ipython3",
   "version": "3.6.2"
  }
 },
 "nbformat": 4,
 "nbformat_minor": 2
}
