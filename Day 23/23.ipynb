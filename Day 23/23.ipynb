{
 "cells": [
  {
   "cell_type": "code",
   "execution_count": 53,
   "metadata": {},
   "outputs": [],
   "source": [
    "neighbours = [(0,1), (0,-1), (1,0), (1,-1), (1, 1), (-1,0), (-1,1), (-1,-1)]\n",
    "searchdirs = [[(-1,-1), (-1,0), (-1,1)],\n",
    "              [(1,1), (1,0), (1,-1)],\n",
    "              [(1,-1), (0,-1), (-1,-1)],\n",
    "              [(-1,1), (0,1), (1,1)]] \n",
    "dirnames = ['North', 'South', 'West', 'East',]\n",
    "\n",
    "def plot_elfs(positions, r):\n",
    "    x = [p[1] for p in positions]\n",
    "    y = [p[0] for p in positions]\n",
    "    plt.xlim([-r,r])\n",
    "    plt.ylim([r,-r])\n",
    "    plt.scatter(x,y)\n",
    "    plt.show()\n",
    "\n",
    "def no_elf_neighbour(cpos):\n",
    "    for loc in neighbours:\n",
    "        t = (cpos[0]+loc[0], cpos[1]+loc[1])\n",
    "        if t in elfpos:\n",
    "            return False\n",
    "    return True\n",
    "\n",
    "def proposed_move_elf(cpos, startdir):\n",
    "    for d in range(4):\n",
    "        dr = (d+startdir)%4\n",
    "        for search in searchdirs[dr]:\n",
    "            elffound = False;\n",
    "            p = (cpos[0]+search[0], cpos[1]+search[1])\n",
    "            if p in elfpos:\n",
    "                elffound = True\n",
    "                break\n",
    "        if not elffound:\n",
    "            return (cpos[0] + searchdirs[dr][1][0], cpos[1] + searchdirs[dr][1][1])\n",
    "    return cpos\n"
   ]
  },
  {
   "cell_type": "code",
   "execution_count": 54,
   "metadata": {},
   "outputs": [
    {
     "name": "stdout",
     "output_type": "stream",
     "text": [
      "Round =  0\n",
      "Part 1 =  4302\n"
     ]
    },
    {
     "ename": "KeyboardInterrupt",
     "evalue": "",
     "output_type": "error",
     "traceback": [
      "\u001b[1;31m---------------------------------------------------------------------------\u001b[0m",
      "\u001b[1;31mKeyboardInterrupt\u001b[0m                         Traceback (most recent call last)",
      "\u001b[1;32m<ipython-input-54-02431d206500>\u001b[0m in \u001b[0;36m<module>\u001b[1;34m()\u001b[0m\n\u001b[0;32m     17\u001b[0m     \u001b[0mproposed_elfpos\u001b[0m \u001b[1;33m=\u001b[0m \u001b[0melfpos\u001b[0m\u001b[1;33m.\u001b[0m\u001b[0mcopy\u001b[0m\u001b[1;33m(\u001b[0m\u001b[1;33m)\u001b[0m\u001b[1;33m\u001b[0m\u001b[0m\n\u001b[0;32m     18\u001b[0m     \u001b[1;32mfor\u001b[0m \u001b[0mi\u001b[0m\u001b[1;33m,\u001b[0m \u001b[0melf\u001b[0m \u001b[1;32min\u001b[0m \u001b[0menumerate\u001b[0m\u001b[1;33m(\u001b[0m\u001b[0melfpos\u001b[0m\u001b[1;33m)\u001b[0m\u001b[1;33m:\u001b[0m\u001b[1;33m\u001b[0m\u001b[0m\n\u001b[1;32m---> 19\u001b[1;33m         \u001b[1;32mif\u001b[0m \u001b[1;32mnot\u001b[0m \u001b[0mno_elf_neighbour\u001b[0m\u001b[1;33m(\u001b[0m\u001b[0melf\u001b[0m\u001b[1;33m)\u001b[0m\u001b[1;33m:\u001b[0m\u001b[1;33m\u001b[0m\u001b[0m\n\u001b[0m\u001b[0;32m     20\u001b[0m             \u001b[0mproposed_elfpos\u001b[0m\u001b[1;33m[\u001b[0m\u001b[0mi\u001b[0m\u001b[1;33m]\u001b[0m \u001b[1;33m=\u001b[0m \u001b[0mproposed_move_elf\u001b[0m\u001b[1;33m(\u001b[0m\u001b[0melf\u001b[0m\u001b[1;33m,\u001b[0m \u001b[0mstartdir\u001b[0m\u001b[1;33m)\u001b[0m\u001b[1;33m\u001b[0m\u001b[0m\n\u001b[0;32m     21\u001b[0m             \u001b[0mmovement_proposed\u001b[0m \u001b[1;33m=\u001b[0m \u001b[1;32mTrue\u001b[0m\u001b[1;33m\u001b[0m\u001b[0m\n",
      "\u001b[1;32m<ipython-input-53-ba727a633d4d>\u001b[0m in \u001b[0;36mno_elf_neighbour\u001b[1;34m(cpos)\u001b[0m\n\u001b[0;32m     16\u001b[0m \u001b[1;32mdef\u001b[0m \u001b[0mno_elf_neighbour\u001b[0m\u001b[1;33m(\u001b[0m\u001b[0mcpos\u001b[0m\u001b[1;33m)\u001b[0m\u001b[1;33m:\u001b[0m\u001b[1;33m\u001b[0m\u001b[0m\n\u001b[0;32m     17\u001b[0m     \u001b[1;32mfor\u001b[0m \u001b[0mloc\u001b[0m \u001b[1;32min\u001b[0m \u001b[0mneighbours\u001b[0m\u001b[1;33m:\u001b[0m\u001b[1;33m\u001b[0m\u001b[0m\n\u001b[1;32m---> 18\u001b[1;33m         \u001b[0mt\u001b[0m \u001b[1;33m=\u001b[0m \u001b[1;33m(\u001b[0m\u001b[0mcpos\u001b[0m\u001b[1;33m[\u001b[0m\u001b[1;36m0\u001b[0m\u001b[1;33m]\u001b[0m\u001b[1;33m+\u001b[0m\u001b[0mloc\u001b[0m\u001b[1;33m[\u001b[0m\u001b[1;36m0\u001b[0m\u001b[1;33m]\u001b[0m\u001b[1;33m,\u001b[0m \u001b[0mcpos\u001b[0m\u001b[1;33m[\u001b[0m\u001b[1;36m1\u001b[0m\u001b[1;33m]\u001b[0m\u001b[1;33m+\u001b[0m\u001b[0mloc\u001b[0m\u001b[1;33m[\u001b[0m\u001b[1;36m1\u001b[0m\u001b[1;33m]\u001b[0m\u001b[1;33m)\u001b[0m\u001b[1;33m\u001b[0m\u001b[0m\n\u001b[0m\u001b[0;32m     19\u001b[0m         \u001b[1;32mif\u001b[0m \u001b[0mt\u001b[0m \u001b[1;32min\u001b[0m \u001b[0melfpos\u001b[0m\u001b[1;33m:\u001b[0m\u001b[1;33m\u001b[0m\u001b[0m\n\u001b[0;32m     20\u001b[0m             \u001b[1;32mreturn\u001b[0m \u001b[1;32mFalse\u001b[0m\u001b[1;33m\u001b[0m\u001b[0m\n",
      "\u001b[1;31mKeyboardInterrupt\u001b[0m: "
     ]
    }
   ],
   "source": [
    "import time\n",
    "from collections import defaultdict\n",
    "\n",
    "with open('input.txt', 'r') as f:\n",
    "    txt = f.read().rstrip().split('\\n')\n",
    "elfpos = []\n",
    "for i, r in enumerate(txt):\n",
    "    for j, col in enumerate(r):\n",
    "        if col == '#': elfpos.append((i,j))\n",
    "\n",
    "\n",
    "startdir = 0\n",
    "movement_proposed = False\n",
    "rnd = 0\n",
    "start = time.time()\n",
    "while True:     \n",
    "    movement_proposed = False\n",
    "    proposed_elfpos = elfpos.copy()\n",
    "    proposed_elfpos = \n",
    "    for i, elf in enumerate(elfpos):\n",
    "        if not no_elf_neighbour(elf): \n",
    "            proposed_elfpos[i] = proposed_move_elf(elf, startdir)\n",
    "            movement_proposed = True     \n",
    "    if not movement_proposed: \n",
    "        print('No Movement Reached!!')\n",
    "        print(\"Round = \", rnd+1)\n",
    "        break\n",
    "    for i, proposed in enumerate(proposed_elfpos):\n",
    "        if proposed_elfpos.count(proposed) == 1:\n",
    "            elfpos[i] = proposed\n",
    "            \n",
    "    startdir = (startdir + 1) % 4\n",
    "    if not rnd%20: print(\"Round = \", rnd)\n",
    "    if rnd == 10:\n",
    "        rownums = [x[0] for x in elfpos]\n",
    "        colnums = [x[1] for x in elfpos]\n",
    "        rowrange = (max(rownums) - min(rownums))+1\n",
    "        colrange = (max(colnums) - min(colnums))+1\n",
    "        area = rowrange * colrange\n",
    "        print ('Part 1 = ', (area - len(elfpos)))\n",
    "    rnd += 1\n",
    "end = time.time()\n",
    "print(\"The time of execution of above program is :\", (end-start) * 10**3, \"ms\")"
   ]
  },
  {
   "cell_type": "code",
   "execution_count": null,
   "metadata": {
    "collapsed": true
   },
   "outputs": [],
   "source": []
  }
 ],
 "metadata": {
  "kernelspec": {
   "display_name": "Python 3",
   "language": "python",
   "name": "python3"
  },
  "language_info": {
   "codemirror_mode": {
    "name": "ipython",
    "version": 3
   },
   "file_extension": ".py",
   "mimetype": "text/x-python",
   "name": "python",
   "nbconvert_exporter": "python",
   "pygments_lexer": "ipython3",
   "version": "3.6.2"
  }
 },
 "nbformat": 4,
 "nbformat_minor": 2
}
