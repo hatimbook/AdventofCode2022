{
 "cells": [
  {
   "cell_type": "code",
   "execution_count": null,
   "metadata": {
    "collapsed": true
   },
   "outputs": [],
   "source": [
    "with open('input.txt', 'r') as f:\n",
    "    txt = [eval(x) for x in f.read().strip().split('\\n')]\n",
    "\n",
    "x_range = range(min([x[0] for x in txt]), max([x[0] for x in txt]) + 1)\n",
    "y_range = range(min([x[1] for x in txt]), max([x[1] for x in txt]) + 1)\n",
    "z_range = range(min([x[2] for x in txt]), max([x[2] for x in txt]) + 1)\n",
    "    \n",
    "def get_n(p):\n",
    "    x,y,z = p\n",
    "    return [(x+1,y,z),(x-1,y,z),(x,y+1,z),(x,y-1,z),(x,y,z+1),(x,y,z-1)]\n",
    "\n",
    "exterior = set()\n",
    "\n",
    "def is_exterior(p):\n",
    "    if p in txt:\n",
    "        return False\n",
    "    checked = set()\n",
    "    todo = [p]\n",
    "    \n",
    "    while todo:\n",
    "        i = todo.pop()\n",
    "        if i in checked:\n",
    "            continue\n",
    "        checked.add(i)\n",
    "        if i in exterior:\n",
    "            exterior.update(checked - set(txt))\n",
    "            return True\n",
    "        if i[0] not in x_range or i[1] not in y_range or i[2] not in z_range:\n",
    "            exterior.update(checked - set(txt))\n",
    "            return True\n",
    "        if i not in txt:\n",
    "                todo += get_n(i)\n",
    "    return False\n",
    "\n",
    "faces = 0    \n",
    "for lava in txt:\n",
    "    faces += (sum([1 for n in get_n(lava) if not n in txt]))\n",
    "print (\"Part 1 = \", faces)\n",
    "\n",
    "faces_2 = 0\n",
    "for lava in txt[:]:\n",
    "    faces_2 += (sum([1 for n in get_n(lava) if is_exterior(n)]))\n",
    "    print(lava, faces_2)\n",
    "print (\"Part 2 = \", faces_2)\n"
   ]
  }
 ],
 "metadata": {
  "kernelspec": {
   "display_name": "Python 3",
   "language": "python",
   "name": "python3"
  },
  "language_info": {
   "codemirror_mode": {
    "name": "ipython",
    "version": 3
   },
   "file_extension": ".py",
   "mimetype": "text/x-python",
   "name": "python",
   "nbconvert_exporter": "python",
   "pygments_lexer": "ipython3",
   "version": "3.6.2"
  }
 },
 "nbformat": 4,
 "nbformat_minor": 2
}
