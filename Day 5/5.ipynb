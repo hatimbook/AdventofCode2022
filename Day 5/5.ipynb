{
 "cells": [
  {
   "cell_type": "code",
   "execution_count": 246,
   "metadata": {},
   "outputs": [],
   "source": [
    "def do_moves(x, fro, to, count, rev=False):\n",
    "    t, x[fr] = x[fr][-cnt:], x[fr][:len(x[fr]) - cnt]\n",
    "    if rev: \n",
    "        t.reverse()\n",
    "    x[to] = x[to] + t\n",
    "    return x"
   ]
  },
  {
   "cell_type": "code",
   "execution_count": 248,
   "metadata": {},
   "outputs": [
    {
     "name": "stdout",
     "output_type": "stream",
     "text": [
      "Part 1 =  RNZLFZSJH\n",
      "Part 2 =  CNSFCGJSM\n"
     ]
    }
   ],
   "source": [
    "import re\n",
    "with open('input.txt', 'r') as f:\n",
    "    text = f.read().rstrip().split('\\n') \n",
    "    stacks = text[0:8]\n",
    "    moves = text[10:]\n",
    "inp = []\n",
    "for i in range(1, len(stacks[0]), 4):\n",
    "    temp = [a[i] for a in stacks if a[i] != ' ']\n",
    "    temp.reverse()\n",
    "    inp.append(temp)\n",
    "    \n",
    "inp_p1 = inp.copy()\n",
    "inp_p2 = inp.copy()\n",
    "for move in moves:\n",
    "    cnt, fr, to = re.findall(\"^move (\\d+) from (\\d+) to (\\d+)\", move)[0]\n",
    "    fr = int(fr) - 1\n",
    "    to = int(to) - 1\n",
    "    cnt = int(cnt)\n",
    "    inp_p1 = do_moves(inp_p1, fr, to, cnt, True)\n",
    "    inp_p2 = do_moves(inp_p2, fr, to, cnt, False)\n",
    "p1 = ''\n",
    "print(\"Part 1 = \", p1.join([p1 + x[-1] for x in inp_p1]))\n",
    "p2 = ''\n",
    "print(\"Part 2 = \", p2.join([p2 + x[-1] for x in inp_p2]))\n"
   ]
  },
  {
   "cell_type": "code",
   "execution_count": null,
   "metadata": {
    "collapsed": true
   },
   "outputs": [],
   "source": []
  }
 ],
 "metadata": {
  "kernelspec": {
   "display_name": "Python 3",
   "language": "python",
   "name": "python3"
  },
  "language_info": {
   "codemirror_mode": {
    "name": "ipython",
    "version": 3
   },
   "file_extension": ".py",
   "mimetype": "text/x-python",
   "name": "python",
   "nbconvert_exporter": "python",
   "pygments_lexer": "ipython3",
   "version": "3.6.2"
  }
 },
 "nbformat": 4,
 "nbformat_minor": 2
}
