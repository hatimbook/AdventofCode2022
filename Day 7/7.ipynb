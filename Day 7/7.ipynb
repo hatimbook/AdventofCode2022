{
 "cells": [
  {
   "cell_type": "code",
   "execution_count": null,
   "metadata": {},
   "outputs": [],
   "source": [
    "%%time\n",
    "import re\n",
    "total_size = 70000000\n",
    "free_space_needed = 30000000\n",
    "with open('input.txt', 'r') as f:\n",
    "    txt = f.read().strip().split('\\n')\n",
    "    \n",
    "filesys = {}\n",
    "path = ''\n",
    "\n",
    "for i in range(len(txt)):\n",
    "    if re.match('\\$ cd ', txt[i]):\n",
    "        d = re.findall('\\$ cd (.*)', txt[i])[0]\n",
    "        if(d != '..'):\n",
    "            path += '/'+ d\n",
    "            filesys[path] = {'Files': [], 'Folders': [], 'Size': 0}\n",
    "        else:\n",
    "            size = filesys[path]['Size']\n",
    "            path = ''.join([x + '/' for x in path.split('/')[:-1]])[:-1]\n",
    "            filesys[path]['Size'] += size\n",
    "            \n",
    "    elif re.match('\\$ ls', txt[i]):\n",
    "        i += 1\n",
    "        while not re.match('\\$', txt[i]):\n",
    "            x = re.findall('dir (.)', txt[i])\n",
    "            if x:\n",
    "                filesys[path]['Folders'].extend(x[0])\n",
    "            else:\n",
    "                file = txt[i].split(' ')\n",
    "                filesys[path]['Files'].append(file[1])\n",
    "                filesys[path]['Size'] += int(file[0])\n",
    "            i += 1\n",
    "            if i >= len(txt):\n",
    "                break\n",
    "                \n",
    "while (path != '//'):\n",
    "    size = filesys[path]['Size']\n",
    "    path = ''.join([x + '/' for x in path.split('/')[:-1]])[:-1]\n",
    "    filesys[path]['Size'] += size\n",
    "\n",
    "ts = sum([f['Size'] for f in filesys.values() if f['Size'] <= 100000])\n",
    "print (\"Part1 = \", ts)\n",
    "\n",
    "curr_unused_space = total_size - filesys['//']['Size']\n",
    "sizetodel = min([f['Size'] for f in filesys.values() if f['Size'] + curr_unused_space > free_space_needed])\n",
    "print (\"Part2 = \", sizetodel)"
   ]
  }
 ],
 "metadata": {
  "kernelspec": {
   "display_name": "Python 3",
   "language": "python",
   "name": "python3"
  },
  "language_info": {
   "codemirror_mode": {
    "name": "ipython",
    "version": 3
   },
   "file_extension": ".py",
   "mimetype": "text/x-python",
   "name": "python",
   "nbconvert_exporter": "python",
   "pygments_lexer": "ipython3",
   "version": "3.6.2"
  }
 },
 "nbformat": 4,
 "nbformat_minor": 2
}
