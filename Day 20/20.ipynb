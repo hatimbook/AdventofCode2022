{
 "cells": [
  {
   "cell_type": "code",
   "execution_count": null,
   "metadata": {
    "collapsed": true
   },
   "outputs": [],
   "source": [
    "from collections import deque\n",
    "\n",
    "with open('input.txt', 'r') as f:\n",
    "    txt = f.read().strip()\n",
    "txt = [int(x) for x in txt.split('\\n')]\n",
    "enc = deque([(value, index) for index, value in enumerate(txt)])\n",
    "\n",
    "for i,x in enumerate(txt):\n",
    "    new_i = enc.index((x,i))\n",
    "    enc.remove((x,i))\n",
    "    enc.rotate(-x)\n",
    "    enc.insert(new_i, (x,i))\n",
    "    \n",
    "enc = list(map(lambda x: x[0], enc))\n",
    "s = sum([enc[(enc.index(0) + 1000*i) % len(enc)] for i in range(1, 4)])\n",
    "print('Part 1 = ',s)   "
   ]
  },
  {
   "cell_type": "code",
   "execution_count": null,
   "metadata": {
    "collapsed": true
   },
   "outputs": [],
   "source": [
    "with open('input.txt', 'r') as f:\n",
    "    txt = f.read().strip()\n",
    "txt = [int(x) for x in txt.split('\\n')]\n",
    "enc = deque([(value, index) for index, value in enumerate(txt)])\n",
    "\n",
    "for _ in range(10):\n",
    "    for i,x in enumerate(txt):\n",
    "        new_i = enc.index((x,i))\n",
    "        enc.remove((x,i))\n",
    "        enc.rotate(-(x * (811589153%len(enc))) )\n",
    "        enc.insert(new_i, (x,i))\n",
    "                   \n",
    "enc = list(map(lambda x: x[0], enc))\n",
    "s = sum([enc[(enc.index(0) + 1000*i) % len(enc)] for i in range(1, 4)])\n",
    "print('Part 2 = ', (s)*811589153)"
   ]
  }
 ],
 "metadata": {
  "kernelspec": {
   "display_name": "Python 3",
   "language": "python",
   "name": "python3"
  },
  "language_info": {
   "codemirror_mode": {
    "name": "ipython",
    "version": 3
   },
   "file_extension": ".py",
   "mimetype": "text/x-python",
   "name": "python",
   "nbconvert_exporter": "python",
   "pygments_lexer": "ipython3",
   "version": "3.6.2"
  }
 },
 "nbformat": 4,
 "nbformat_minor": 2
}
