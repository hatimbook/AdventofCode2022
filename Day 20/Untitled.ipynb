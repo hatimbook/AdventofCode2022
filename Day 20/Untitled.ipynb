{
 "cells": [
  {
   "cell_type": "code",
   "execution_count": 6,
   "metadata": {},
   "outputs": [
    {
     "name": "stdout",
     "output_type": "stream",
     "text": [
      "8372\n"
     ]
    }
   ],
   "source": [
    "from collections import deque\n",
    "\n",
    "input_file = list(map(int, open('input.txt', 'r').read().strip().split('\\n')))\n",
    "position_list = deque([(value, index) for index, value in enumerate(input_file)])\n",
    "\n",
    "for i, num in enumerate(input_file):\n",
    "    current_index = position_list.index((num, i))\n",
    "    position_list.remove((num, i))\n",
    "    position_list.rotate(-num)\n",
    "    position_list.insert(current_index, (num, i))\n",
    "\n",
    "final_list = list(map(lambda x: x[0], position_list))\n",
    "zero_index = final_list.index(0)\n",
    "print(sum(final_list[(zero_index+1000*i) % len(input_file)] for i in [1, 2, 3]))"
   ]
  },
  {
   "cell_type": "code",
   "execution_count": 8,
   "metadata": {},
   "outputs": [
    {
     "name": "stdout",
     "output_type": "stream",
     "text": [
      "7865110481723\n"
     ]
    }
   ],
   "source": [
    "from collections import deque\n",
    "\n",
    "input_file = list(map(int, open('input.txt', 'r').read().strip().split('\\n')))\n",
    "position_list = deque([(811589153*value, index) for index, value in enumerate(input_file)])\n",
    "\n",
    "for _ in range(10):\n",
    "    for i, num in enumerate(input_file):\n",
    "        num = 811589153*num\n",
    "        current_index = position_list.index((num, i))\n",
    "        position_list.remove((num, i))\n",
    "        position_list.rotate(-num)\n",
    "        position_list.insert(current_index, (num, i))\n",
    "\n",
    "final_list = list(map(lambda x: x[0], position_list))\n",
    "zero_index = final_list.index(0)\n",
    "print(sum(final_list[(zero_index+1000*i) % len(input_file)] for i in [1, 2, 3]))"
   ]
  },
  {
   "cell_type": "code",
   "execution_count": null,
   "metadata": {
    "collapsed": true
   },
   "outputs": [],
   "source": []
  }
 ],
 "metadata": {
  "kernelspec": {
   "display_name": "Python 3",
   "language": "python",
   "name": "python3"
  },
  "language_info": {
   "codemirror_mode": {
    "name": "ipython",
    "version": 3
   },
   "file_extension": ".py",
   "mimetype": "text/x-python",
   "name": "python",
   "nbconvert_exporter": "python",
   "pygments_lexer": "ipython3",
   "version": "3.6.2"
  }
 },
 "nbformat": 4,
 "nbformat_minor": 2
}
