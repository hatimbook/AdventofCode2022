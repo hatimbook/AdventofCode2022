{
 "cells": [
  {
   "cell_type": "code",
   "execution_count": null,
   "metadata": {
    "collapsed": true
   },
   "outputs": [],
   "source": [
    "def get_set(str):\n",
    "    ls = [x.split('-') for x in str.split(',')]\n",
    "    return [set(range(int(ls[0][0]), int(ls[0][1])+1)), set(range(int(ls[1][0]), int(ls[1][1])+1))]"
   ]
  },
  {
   "cell_type": "code",
   "execution_count": null,
   "metadata": {},
   "outputs": [],
   "source": [
    "with open('input.txt', 'r') as f:\n",
    "    temp = f.read().rstrip().split('\\n')\n",
    "comp_overlaps = 0\n",
    "part_overlaps = 0\n",
    "for items in temp:\n",
    "    elfsets = get_set(items)\n",
    "    overlap = set.intersection(*elfsets)\n",
    "    if(overlap == elfsets[0] or overlap == elfsets[1]):\n",
    "        comp_overlaps += 1\n",
    "    if(len(overlap)):\n",
    "        part_overlaps += 1\n",
    "    \n",
    "print(\"Part 1 (Complete Overlaps) - \", comp_overlaps)\n",
    "print(\"Part 2 (Paritial Overlaps) - \", part_overlaps)"
   ]
  }
 ],
 "metadata": {
  "kernelspec": {
   "display_name": "Python 3",
   "language": "python",
   "name": "python3"
  },
  "language_info": {
   "codemirror_mode": {
    "name": "ipython",
    "version": 3
   },
   "file_extension": ".py",
   "mimetype": "text/x-python",
   "name": "python",
   "nbconvert_exporter": "python",
   "pygments_lexer": "ipython3",
   "version": "3.6.2"
  }
 },
 "nbformat": 4,
 "nbformat_minor": 2
}
