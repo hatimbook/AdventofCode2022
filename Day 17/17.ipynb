{
 "cells": [
  {
   "cell_type": "code",
   "execution_count": 13,
   "metadata": {},
   "outputs": [],
   "source": [
    "rock_dmns = [(1,4), (3,3), (3,3), (4,1), (2,2)]\n",
    "rock_shapes = [[(0,0), (0,1), (0,2), (0,3)],\n",
    "               [(0,1), (1,0), (1,1), (1,2), (2,1)],\n",
    "               [(0,2), (1,2), (2,0), (2,1), (2,2)],\n",
    "               [(0,0), (1,0), (2,0), (3,0)],\n",
    "               [(0,0), (0,1), (1,0), (1,1)]]\n",
    "\n",
    "edge_checks_left = [[(0,-1)], [(0,0), (2,0), (1, -1)], [(0,1), (1,1), (2,-1)], [(0,-1), (1,-1), (2,-1), (3,-1)], [(0,-1), (1,-1)]]\n",
    "edge_checks_right = [[(0,4)], [(0,2), (2,2), (1,3)], [(0,3), (1,3), (2,3)], [(0,1), (1,1), (2,1), (3,1)], [(0,2), (1,2)]]\n",
    "edge_checks_down = [[(1,0), (1,1), (1,2), (1,3)], [(2,0), (2,2), (3,1)], [(3,0), (3,1), (3,2)], [(4,0)], [(2,0), (2,1)]]\n",
    "\n",
    "def printl(l):\n",
    "    for r in l:\n",
    "        print (r)\n",
    "    print('\\n\\n')\n",
    "\n",
    "def create_rock(game, rind):\n",
    "    empty_space = [[0,0,0,0,0,0,0] for _ in range(rock_dmns[rind][0] + 3)]\n",
    "    game = empty_space + game\n",
    "    return  game, (0,2)\n",
    "\n",
    "def check_obs(checks, r, c):\n",
    "    if(len(checks)):\n",
    "        for ch in checks:\n",
    "            if(game[r + ch[0]][c + ch[1]] == 1):\n",
    "                return True\n",
    "    return False\n",
    "\n",
    "def move_rock(game, direction, dmns, pos, checks, shape):\n",
    "    moved = False\n",
    "    r, c = pos\n",
    "    if direction == 'down':\n",
    "            if r+dmns[0] < len(game) and not check_obs(checks, r,c):\n",
    "                r += 1\n",
    "                moved = True\n",
    "            else:\n",
    "                for pt in shape:\n",
    "                    game[r+pt[0]][c+pt[1]] = 1\n",
    "                while len(game) > 0:\n",
    "                    if sum(game[0]) == 0:\n",
    "                        game = game[1:]\n",
    "                        r -= 1\n",
    "                    else: break   \n",
    "    elif direction == 'left':\n",
    "        if c > 0 and not check_obs(checks, r,c):\n",
    "            c -= 1\n",
    "            moved = True\n",
    "    elif direction == 'right':\n",
    "        if c+dmns[1] < len(game[0]) and not check_obs(checks, r,c):\n",
    "            c += 1\n",
    "            moved = True     \n",
    "    newpos = (r,c)        \n",
    "    return game, newpos, moved\n",
    "        "
   ]
  },
  {
   "cell_type": "code",
   "execution_count": 14,
   "metadata": {},
   "outputs": [
    {
     "name": "stdout",
     "output_type": "stream",
     "text": [
      "Part 1 =  3227\n",
      "Part 2 =  1597714285698.0\n"
     ]
    }
   ],
   "source": [
    "with open('input.txt', 'r') as f:\n",
    "    txt = f.read().rstrip()\n",
    "rockid = 0\n",
    "index = 0\n",
    "lengame = 0\n",
    "repeat = dict()\n",
    "game = []\n",
    "for rockid in range(int(1e12)):\n",
    "    \n",
    "    if(rockid == 2022):\n",
    "        print (\"Part 1 = \", len(game))\n",
    "    \n",
    "    key = (rockid%5, index%len(txt))\n",
    "    if key in repeat:     \n",
    "        prev_rockid, prev_length = repeat[key]\n",
    "        period_length, rem = divmod(1e12-rockid, rockid-prev_rockid)\n",
    "        if rem == 0:\n",
    "            print(\"Part 2 = \", len(game) + (len(game) - prev_length) * period_length); break\n",
    "    else:\n",
    "        repeat[key] = rockid, len(game)\n",
    "    \n",
    "    \n",
    "    game, pos = create_rock(game, rockid%5)\n",
    "    moved = True\n",
    "    while moved:      \n",
    "        cmd = txt[index%len(txt)]\n",
    "        if cmd == '>':\n",
    "            game, pos, moved = move_rock(game, 'right', rock_dmns[rockid%5], pos, edge_checks_right[rockid%5], rock_shapes[rockid%5])\n",
    "        elif cmd == '<':\n",
    "            game, pos, moved = move_rock(game, 'left', rock_dmns[rockid%5], pos, edge_checks_left[rockid%5], rock_shapes[rockid%5])\n",
    "        game, pos, moved = move_rock(game, 'down', rock_dmns[rockid%5], pos, edge_checks_down[rockid%5], rock_shapes[rockid%5])\n",
    "        index += 1\n",
    "    \n",
    "    "
   ]
  },
  {
   "cell_type": "code",
   "execution_count": null,
   "metadata": {
    "collapsed": true
   },
   "outputs": [],
   "source": []
  }
 ],
 "metadata": {
  "kernelspec": {
   "display_name": "Python 3",
   "language": "python",
   "name": "python3"
  },
  "language_info": {
   "codemirror_mode": {
    "name": "ipython",
    "version": 3
   },
   "file_extension": ".py",
   "mimetype": "text/x-python",
   "name": "python",
   "nbconvert_exporter": "python",
   "pygments_lexer": "ipython3",
   "version": "3.6.2"
  }
 },
 "nbformat": 4,
 "nbformat_minor": 2
}
