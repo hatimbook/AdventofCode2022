{
 "cells": [
  {
   "cell_type": "code",
   "execution_count": null,
   "metadata": {
    "collapsed": true
   },
   "outputs": [],
   "source": [
    "def add_rocks(fro, to):\n",
    "    rocks.add(fro)\n",
    "    rocks.add(to)\n",
    "    if fro[0] == to[0] and fro[1] > to[1]:\n",
    "        for i in range(1, fro[1] - to[1]):\n",
    "            rocks.add((fro[0], fro[1] - i))\n",
    "    if fro[0] == to[0] and fro[1] < to[1]:\n",
    "        for i in range(1, to[1] - fro[1]):\n",
    "            rocks.add((fro[0], to[1] - i))\n",
    "\n",
    "    if fro[1] == to[1] and fro[0] > to[0]:\n",
    "        for i in range(1, fro[0] - to[0]):\n",
    "            rocks.add((fro[0] - i, to[1]))\n",
    "    if fro[1] == to[1] and fro[0] < to[0]:\n",
    "        for i in range(1, to[0] - fro[0]):\n",
    "            rocks.add((to[0] - i, to[1])) \n",
    "    \n",
    "def sand_rest_pos_with_base(ipos):\n",
    "    curr = ipos\n",
    "    while True:     \n",
    "        new = (curr[0], curr[1]+1)\n",
    "        if new[1] > rock_bottom + 1:\n",
    "            return curr\n",
    "        if new in rocks or new in sand:\n",
    "            new = (curr[0] - 1, curr[1]+1)\n",
    "            if new in rocks or new in sand:\n",
    "                new = (curr[0] + 1, curr[1]+1)\n",
    "                if new in rocks or new in sand:\n",
    "                    return curr\n",
    "                else:\n",
    "                    curr = new\n",
    "            else:\n",
    "                curr = new\n",
    "                \n",
    "        else:\n",
    "            curr = new"
   ]
  },
  {
   "cell_type": "code",
   "execution_count": null,
   "metadata": {},
   "outputs": [],
   "source": [
    "with open('input.txt', 'r') as f:\n",
    "    txt = f.read().rstrip().split('\\n')\n",
    "rocks = set()\n",
    "for line in txt:\n",
    "    seg = [x.split(',') for x in line.split(' -> ')]\n",
    "    for i in range(len(seg) - 1):\n",
    "        fro = int(seg[i][0]), int(seg[i][1])\n",
    "        to = int(seg[i+1][0]), int(seg[i+1][1])\n",
    "        add_rocks(fro, to)       \n",
    "rock_bottom = max([x[1] for x in rocks])\n",
    "\n",
    "sand = set()\n",
    "num = 0       \n",
    "falling_off = False\n",
    "start_pos = (500, 0)\n",
    "while True:\n",
    "    s = sand_rest_pos_with_base(start_pos)\n",
    "    if not s == start_pos:\n",
    "        sand.add(s)\n",
    "        if(s[1] > rock_bottom and not falling_off):\n",
    "            print(\"Part 1 = \", num)\n",
    "            falling_off = True\n",
    "        num += 1\n",
    "    else:\n",
    "        num += 1\n",
    "        print(\"Part 2 = \", num)\n",
    "        break                "
   ]
  },
  {
   "cell_type": "code",
   "execution_count": null,
   "metadata": {
    "collapsed": true
   },
   "outputs": [],
   "source": []
  }
 ],
 "metadata": {
  "kernelspec": {
   "display_name": "Python 3",
   "language": "python",
   "name": "python3"
  },
  "language_info": {
   "codemirror_mode": {
    "name": "ipython",
    "version": 3
   },
   "file_extension": ".py",
   "mimetype": "text/x-python",
   "name": "python",
   "nbconvert_exporter": "python",
   "pygments_lexer": "ipython3",
   "version": "3.6.2"
  }
 },
 "nbformat": 4,
 "nbformat_minor": 2
}
