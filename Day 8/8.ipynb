{
 "cells": [
  {
   "cell_type": "code",
   "execution_count": null,
   "metadata": {},
   "outputs": [],
   "source": [
    "with open('input.txt', 'r') as f:\n",
    "    txt = f.read().rstrip().split('\\n')\n",
    "\n",
    "vis_tot = 0\n",
    "max_total = 0\n",
    "\n",
    "for row in range(0, len(txt)):\n",
    "    for col in range(0, len(txt[0])):\n",
    "        curr_tree_ht = int(txt[row][col])\n",
    "        vis = [1, 1, 1, 1]\n",
    "        cnt = [0, 0, 0, 0]\n",
    "        \n",
    "        for u in range(row-1, -1, -1):\n",
    "            cnt[0] += 1\n",
    "            if int(txt[u][col]) >= curr_tree_ht:\n",
    "                vis[0] = 0\n",
    "                break\n",
    "        for d in range(row+1, len(txt), 1):\n",
    "            cnt[1] += 1\n",
    "            if int(txt[d][col]) >= curr_tree_ht:\n",
    "                vis[1] = 0\n",
    "                break\n",
    "        for r in range(col+1, len(txt[0]), 1):\n",
    "            cnt[2] += 1\n",
    "            if int(txt[row][r]) >= curr_tree_ht:\n",
    "                vis[2] = 0\n",
    "                break      \n",
    "        for l in range(col-1, -1, -1):\n",
    "            cnt[3] += 1\n",
    "            if int(txt[row][l]) >= curr_tree_ht:\n",
    "                vis[3] = 0\n",
    "                break\n",
    "        \n",
    "        if sum(vis):         \n",
    "            vis_tot += 1\n",
    "        cnt_total = cnt[0] * cnt[1] * cnt[2] * cnt[3]\n",
    "        if cnt_total > max_total:\n",
    "            max_total = cnt_total\n",
    "\n",
    "print (\"Part 1 = \", vis_tot)\n",
    "print (\"Part 2 = \", max_total)"
   ]
  },
  {
   "cell_type": "code",
   "execution_count": null,
   "metadata": {
    "collapsed": true
   },
   "outputs": [],
   "source": []
  }
 ],
 "metadata": {
  "kernelspec": {
   "display_name": "Python 3",
   "language": "python",
   "name": "python3"
  },
  "language_info": {
   "codemirror_mode": {
    "name": "ipython",
    "version": 3
   },
   "file_extension": ".py",
   "mimetype": "text/x-python",
   "name": "python",
   "nbconvert_exporter": "python",
   "pygments_lexer": "ipython3",
   "version": "3.6.2"
  }
 },
 "nbformat": 4,
 "nbformat_minor": 2
}
