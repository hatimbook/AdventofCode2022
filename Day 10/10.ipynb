{
 "cells": [
  {
   "cell_type": "code",
   "execution_count": null,
   "metadata": {},
   "outputs": [],
   "source": [
    "import re\n",
    "with open('input.txt', 'r') as f:\n",
    "    txt = f.read().strip().split('\\n')\n",
    "X = 1\n",
    "values = [1]\n",
    "cycles = 0\n",
    "for cmd in txt:\n",
    "    if cmd == 'noop': values.append(X)     \n",
    "    else:\n",
    "        a = re.findall('addx (.*)', cmd)[0]\n",
    "        values.append(X)\n",
    "        X += int(a)\n",
    "        values.append(X)\n",
    "print (\"Part 1 = \", sum([(v+1) * values[v] for v in range(19, len(values), 40)]))\n",
    "\n",
    "crt = []\n",
    "for v in range(len(values) - len(values)%40):\n",
    "    x = v%40\n",
    "    if not (x): crt.append('')\n",
    "    if values[v] == x or values[v] -1 == x or values[v] + 1 == x: crt[-1] += '#'\n",
    "    else: crt[-1] += '.'\n",
    "print(\"Part 2 = \", )\n",
    "strings\n",
    "    "
   ]
  },
  {
   "cell_type": "code",
   "execution_count": null,
   "metadata": {
    "collapsed": true
   },
   "outputs": [],
   "source": []
  }
 ],
 "metadata": {
  "kernelspec": {
   "display_name": "Python 3",
   "language": "python",
   "name": "python3"
  },
  "language_info": {
   "codemirror_mode": {
    "name": "ipython",
    "version": 3
   },
   "file_extension": ".py",
   "mimetype": "text/x-python",
   "name": "python",
   "nbconvert_exporter": "python",
   "pygments_lexer": "ipython3",
   "version": "3.6.2"
  }
 },
 "nbformat": 4,
 "nbformat_minor": 2
}
