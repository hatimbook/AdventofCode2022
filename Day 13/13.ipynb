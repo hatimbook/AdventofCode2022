{
 "cells": [
  {
   "cell_type": "code",
   "execution_count": null,
   "metadata": {},
   "outputs": [],
   "source": [
    "import json\n",
    "import ast\n",
    "with open('input.txt', 'r') as f:\n",
    "    txt = [x.split('\\n') for x in f.read().rstrip().split('\\n\\n')]"
   ]
  },
  {
   "cell_type": "code",
   "execution_count": null,
   "metadata": {
    "collapsed": true
   },
   "outputs": [],
   "source": [
    "def compare(a, b):\n",
    "    if isinstance(a, list) and isinstance(b, list):\n",
    "        l = max([len(a), len(b)])\n",
    "        for i in range(l):\n",
    "            if i >= len(a):\n",
    "                #print(\"returning true: left list runs out\", len(a), len(b))\n",
    "                return True\n",
    "            elif i >= len(b):\n",
    "                #print(\"returning false: right list runs out\", len(a), len(b))\n",
    "                return False\n",
    "            if isinstance(a[i], int) and isinstance(b[i], int):\n",
    "                if a[i] < b[i]:\n",
    "                    #print(\"returning true: left smaller than right\", a[i], b[i])\n",
    "                    return True\n",
    "                elif a[i] > b[i]:\n",
    "                    #print(\"returning false: left bigger than right\", a[i], b[i])\n",
    "                    return False\n",
    "            else:\n",
    "                if isinstance(a[i], list) and isinstance(b[i], list):\n",
    "                    c = compare(a[i], b[i])\n",
    "                elif isinstance(a[i], list) and isinstance(b[i], int):\n",
    "                    c = compare(a[i], [b[i]])\n",
    "                elif isinstance(a[i], int) and isinstance(b[i], list):\n",
    "                    c = compare([a[i]], b[i])\n",
    "                if c == True or c == False:\n",
    "                        return c\n",
    "    return None\n",
    "\n",
    "def bsort(inp):\n",
    "    n= len(inp)\n",
    "    swapped = False\n",
    "    for i in range(n-1):\n",
    "        for j in range(0, n-i-1):\n",
    "            if not compare(inp[j], inp[j+1]):\n",
    "                swapped = True\n",
    "                inp[j], inp[j+1] = inp[j+1], inp[j]\n",
    "        if not swapped:\n",
    "            return"
   ]
  },
  {
   "cell_type": "code",
   "execution_count": null,
   "metadata": {},
   "outputs": [],
   "source": [
    "s = 0\n",
    "for index in range(len(txt)):\n",
    "    a = ast.literal_eval(txt[index][0])\n",
    "    b = ast.literal_eval(txt[index][1])\n",
    "    r = compare(a,b)\n",
    "    if r:\n",
    "        s += (index+1)\n",
    "print(\"Part 1 = Sum of right ordered commands = \", s)"
   ]
  },
  {
   "cell_type": "code",
   "execution_count": null,
   "metadata": {},
   "outputs": [],
   "source": [
    "inp = []\n",
    "for t in txt:\n",
    "    inp.extend([ast.literal_eval(t[0]), ast.literal_eval(t[1])])\n",
    "inp.append([[2]])\n",
    "inp.append([[6]])\n",
    "bsort(inp)\n",
    "print (\"Decoder key = \", (inp.index([[2]]) + 1) *  (inp.index([[6]] ) + 1 ) )"
   ]
  }
 ],
 "metadata": {
  "kernelspec": {
   "display_name": "Python 3",
   "language": "python",
   "name": "python3"
  },
  "language_info": {
   "codemirror_mode": {
    "name": "ipython",
    "version": 3
   },
   "file_extension": ".py",
   "mimetype": "text/x-python",
   "name": "python",
   "nbconvert_exporter": "python",
   "pygments_lexer": "ipython3",
   "version": "3.6.2"
  }
 },
 "nbformat": 4,
 "nbformat_minor": 2
}
