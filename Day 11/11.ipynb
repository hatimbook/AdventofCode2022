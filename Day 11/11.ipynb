{
 "cells": [
  {
   "cell_type": "code",
   "execution_count": null,
   "metadata": {
    "collapsed": true
   },
   "outputs": [],
   "source": [
    "with open('input.txt', 'r') as f:\n",
    "    txt = f.read().rstrip().split('\\n\\n')\n",
    "txt = [a.split('\\n') for a in txt]\n"
   ]
  },
  {
   "cell_type": "code",
   "execution_count": null,
   "metadata": {},
   "outputs": [],
   "source": [
    "import re\n",
    "monkeys = {}\n",
    "for monkey in txt:\n",
    "    db = {'Items': [], 'Operation': '', 'Test': 0, 'TestTrue': '', 'TestFalse': '', 'Inspected': 0}\n",
    "    db['Items'] = [int(x) for x in re.findall('Starting items: (.*)', monkey[1])[0].split(',')]\n",
    "    db['Operation'] = re.findall('Operation: new = (.*)', monkey[2])[0]\n",
    "    db['Test'] = int(re.findall('Test: divisible by (\\d+)', monkey[3])[0])\n",
    "    db['TestTrue'] = re.findall('If true: throw to (.*)', monkey[4])[0].lower()\n",
    "    db['TestFalse'] = re.findall('If false: throw to (.*)', monkey[5])[0].lower()\n",
    "    monkeys[monkey[0].rstrip(':').lower()] = db\n",
    "lcm = 1\n",
    "for monkey in monkeys.keys():\n",
    "    lcm *= monkeys[monkey]['Test']\n",
    "print(\"LCM = \", lcm)\n",
    "for r in range(10000):\n",
    "    for monkey in monkeys.keys():\n",
    "        for item in list(monkeys[monkey]['Items']):\n",
    "            worry = eval(monkeys[monkey]['Operation'].replace('old', str(item)))\n",
    "            worry = worry % lcm\n",
    "            if not worry % monkeys[monkey]['Test']:\n",
    "                monkeys[monkeys[monkey]['TestTrue']]['Items'].extend([worry])\n",
    "            else:\n",
    "                monkeys[monkeys[monkey]['TestFalse']]['Items'].extend([worry])\n",
    "            monkeys[monkey]['Items'].remove(item)\n",
    "            monkeys[monkey]['Inspected'] += 1\n",
    "    if not r % 1000:\n",
    "        print (\"Rounds Completed: \", r)\n",
    "ins = []\n",
    "for monkey in monkeys.keys():\n",
    "    ins.extend([monkeys[monkey]['Inspected']])\n",
    "ins.sort()\n",
    "print(ins[-1] * ins[-2])  "
   ]
  }
 ],
 "metadata": {
  "kernelspec": {
   "display_name": "Python 3",
   "language": "python",
   "name": "python3"
  },
  "language_info": {
   "codemirror_mode": {
    "name": "ipython",
    "version": 3
   },
   "file_extension": ".py",
   "mimetype": "text/x-python",
   "name": "python",
   "nbconvert_exporter": "python",
   "pygments_lexer": "ipython3",
   "version": "3.6.2"
  }
 },
 "nbformat": 4,
 "nbformat_minor": 2
}
